{
 "cells": [
  {
   "cell_type": "code",
   "execution_count": 3,
   "metadata": {},
   "outputs": [],
   "source": [
    "def biseccion(f, x1, x2, E,): #f es la funcion, x1 y x2 son el punto inicial y el final, E es el error\n",
    "    if f(x1)+f(x2) > 0:\n",
    "        return None # Para ver si hay raiíz en el intervalo\n",
    "    while f(x1)*f(x2) < 0:\n",
    "        a = (x1+x2)/2\n",
    "        if f(x1)*f(a) < 0:\n",
    "            x2 = a\n",
    "            while abs(x1-x2) > E:\n",
    "                a = (x1+x2)/2\n",
    "                if f(x1)*f(a) < 0:\n",
    "                    x2 = a\n",
    "                elif f(x1)*f(a) > 0:\n",
    "                    x1 = a\n",
    "        elif f(x1)+f(a) > 0:\n",
    "            x1 = a\n",
    "            while abs(x1-x2) > E:\n",
    "                a = (x1+x2)/2\n",
    "                if f(x1)*f(a) < 0:\n",
    "                    x2 = a\n",
    "                elif f(x1)*f(a) > 0:\n",
    "                    x1 = a\n",
    "        else:\n",
    "            return a"
   ]
  }
 ],
 "metadata": {
  "kernelspec": {
   "display_name": "base",
   "language": "python",
   "name": "python3"
  },
  "language_info": {
   "codemirror_mode": {
    "name": "ipython",
    "version": 3
   },
   "file_extension": ".py",
   "mimetype": "text/x-python",
   "name": "python",
   "nbconvert_exporter": "python",
   "pygments_lexer": "ipython3",
   "version": "3.9.13"
  }
 },
 "nbformat": 4,
 "nbformat_minor": 2
}
