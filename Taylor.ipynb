{
 "cells": [
  {
   "cell_type": "code",
   "execution_count": 7,
   "metadata": {},
   "outputs": [],
   "source": [
    "# Taller 1: Series Taylor\n",
    "\n",
    "import numpy as np\n",
    "import matplotlib.pyplot as plt"
   ]
  },
  {
   "cell_type": "code",
   "execution_count": 6,
   "metadata": {},
   "outputs": [],
   "source": [
    "def f(x):\n",
    "    return-3*x**4-2*x**2-x+50\n",
    "\n",
    "def d1(x):\n",
    "    return -12*x**3-4*x-1\n",
    "\n",
    "def d2(x):\n",
    "    return -36*x**2-4\n",
    "\n",
    "def d3(x):\n",
    "    return -72*x\n",
    "\n",
    "def d4(x):\n",
    "    return -72"
   ]
  },
  {
   "cell_type": "code",
   "execution_count": 15,
   "metadata": {},
   "outputs": [],
   "source": [
    "def Taylor(n, c, h, f, d1, d2, d3, d4): # n es el orden de la serie, c es el valor a aproximar y h que es el paso.\n",
    "    # Orden 0\n",
    "    if n == 0:\n",
    "        sol = f(c)\n",
    "    # Orden 1\n",
    "    if n == 1:\n",
    "        sol = f(c) + d1(c)*h\n",
    "    # Orden 2\n",
    "    if n == 2:\n",
    "        sol = f(c) + d1(c)*h + d2(c)*(h**2)/np.math.factorial(2)\n",
    "    # Orden 3\n",
    "    if n == 3:\n",
    "        sol = f(c) + d1(c)*h + d2(c)*(h**2)/np.math.factorial(2) + d3(c)*(h**3)/np.math.factorial(3)\n",
    "    # Orden 4\n",
    "    if n == 4:\n",
    "        sol = f(c) + d1(c)*h + d2(c)*(h**2)/np.math.factorial(2) + d3(c)*(h**3)/np.math.factorial(3) + d4(c)*(h**4)/np.math.factorial(4)\n",
    "    return sol"
   ]
  },
  {
   "cell_type": "code",
   "execution_count": 17,
   "metadata": {},
   "outputs": [
    {
     "data": {
      "text/plain": [
       "50"
      ]
     },
     "execution_count": 17,
     "metadata": {},
     "output_type": "execute_result"
    }
   ],
   "source": [
    "# Serie de orden 0 xi=0 y h=1\n",
    "a = Taylor(0, 0, 1, f, d1, d2, d3, d4)\n",
    "a"
   ]
  },
  {
   "cell_type": "code",
   "execution_count": 18,
   "metadata": {},
   "outputs": [
    {
     "data": {
      "text/plain": [
       "49"
      ]
     },
     "execution_count": 18,
     "metadata": {},
     "output_type": "execute_result"
    }
   ],
   "source": [
    "# serie de orden 1 xi\n",
    "b = Taylor(1, 0, 1, f, d1, d2, d3, d4)\n",
    "b"
   ]
  },
  {
   "cell_type": "code",
   "execution_count": 20,
   "metadata": {},
   "outputs": [
    {
     "data": {
      "text/plain": [
       "47.0"
      ]
     },
     "execution_count": 20,
     "metadata": {},
     "output_type": "execute_result"
    }
   ],
   "source": [
    "# Serie de orden 2 xi= 0 y h=1\n",
    "c = Taylor(2,0,1,f,d1,d2,d3,d4)\n",
    "c"
   ]
  },
  {
   "cell_type": "code",
   "execution_count": 21,
   "metadata": {},
   "outputs": [
    {
     "data": {
      "text/plain": [
       "47.0"
      ]
     },
     "execution_count": 21,
     "metadata": {},
     "output_type": "execute_result"
    }
   ],
   "source": [
    "#  Serie de orden 3 xi= 0 y h=1\n",
    "d = Taylor(3,0,1,f,d1,d2,d3,d4)\n",
    "d"
   ]
  },
  {
   "cell_type": "code",
   "execution_count": 22,
   "metadata": {},
   "outputs": [
    {
     "data": {
      "text/plain": [
       "44.0"
      ]
     },
     "execution_count": 22,
     "metadata": {},
     "output_type": "execute_result"
    }
   ],
   "source": [
    "# serie de orden 4 xi= 0 y h=1\n",
    "e = Taylor(4,0,1,f,d1,d2,d3,d4)\n",
    "e"
   ]
  }
 ],
 "metadata": {
  "kernelspec": {
   "display_name": "base",
   "language": "python",
   "name": "python3"
  },
  "language_info": {
   "codemirror_mode": {
    "name": "ipython",
    "version": 3
   },
   "file_extension": ".py",
   "mimetype": "text/x-python",
   "name": "python",
   "nbconvert_exporter": "python",
   "pygments_lexer": "ipython3",
   "version": "3.9.13"
  }
 },
 "nbformat": 4,
 "nbformat_minor": 2
}
